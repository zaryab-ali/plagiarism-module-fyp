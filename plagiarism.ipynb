{
  "nbformat": 4,
  "nbformat_minor": 0,
  "metadata": {
    "colab": {
      "provenance": [],
      "authorship_tag": "ABX9TyM67b9YV3ctUL8VOYY/Fsta",
      "include_colab_link": true
    },
    "kernelspec": {
      "name": "python3",
      "display_name": "Python 3"
    },
    "language_info": {
      "name": "python"
    }
  },
  "cells": [
    {
      "cell_type": "markdown",
      "metadata": {
        "id": "view-in-github",
        "colab_type": "text"
      },
      "source": [
        "<a href=\"https://colab.research.google.com/github/zaryab-ali/plagiarism-module-fyp/blob/master/plagiarism.ipynb\" target=\"_parent\"><img src=\"https://colab.research.google.com/assets/colab-badge.svg\" alt=\"Open In Colab\"/></a>"
      ]
    },
    {
      "cell_type": "code",
      "execution_count": null,
      "metadata": {
        "id": "wnQEXDglRD0C"
      },
      "outputs": [],
      "source": [
        "import hashlib\n",
        "from cdifflib import CSequenceMatcher\n",
        "import requests\n",
        "from pathlib import Path\n",
        "import os\n",
        "from flask import Flask,request\n"
      ]
    },
    {
      "cell_type": "code",
      "source": [
        "!pip show hashlib\n",
        "!pip show cdifflib\n",
        "!pip show requests\n",
        "!pip show flask"
      ],
      "metadata": {
        "colab": {
          "base_uri": "https://localhost:8080/"
        },
        "id": "puLp6s855V-3",
        "outputId": "ee4eb4ce-a903-43ed-a8d5-3615ea4201b7"
      },
      "execution_count": null,
      "outputs": [
        {
          "output_type": "stream",
          "name": "stdout",
          "text": [
            "\u001b[33mWARNING: Package(s) not found: hashlib\u001b[0m\u001b[33m\n",
            "\u001b[0mName: cdifflib\n",
            "Version: 1.2.6\n",
            "Summary: C implementation of parts of difflib\n",
            "Home-page: https://github.com/mduggan/cdifflib\n",
            "Author: Matthew Duggan\n",
            "Author-email: Matthew Duggan <mgithub@guarana.org>\n",
            "License: Copyright (c) 2013, Matthew Duggan\n",
            "        All rights reserved.\n",
            "        \n",
            "        Redistribution and use in source and binary forms, with or without modification,\n",
            "        are permitted provided that the following conditions are met:\n",
            "        \n",
            "        * Redistributions of source code must retain the above copyright notice, this\n",
            "          list of conditions and the following disclaimer.\n",
            "        \n",
            "        * Redistributions in binary form must reproduce the above copyright notice, this\n",
            "          list of conditions and the following disclaimer in the documentation and/or\n",
            "          other materials provided with the distribution.\n",
            "        \n",
            "        * Neither the name of the {organization} nor the names of its\n",
            "          contributors may be used to endorse or promote products derived from\n",
            "          this software without specific prior written permission.\n",
            "        \n",
            "        THIS SOFTWARE IS PROVIDED BY THE COPYRIGHT HOLDERS AND CONTRIBUTORS \"AS IS\" AND\n",
            "        ANY EXPRESS OR IMPLIED WARRANTIES, INCLUDING, BUT NOT LIMITED TO, THE IMPLIED\n",
            "        WARRANTIES OF MERCHANTABILITY AND FITNESS FOR A PARTICULAR PURPOSE ARE\n",
            "        DISCLAIMED. IN NO EVENT SHALL THE COPYRIGHT HOLDER OR CONTRIBUTORS BE LIABLE FOR\n",
            "        ANY DIRECT, INDIRECT, INCIDENTAL, SPECIAL, EXEMPLARY, OR CONSEQUENTIAL DAMAGES\n",
            "        (INCLUDING, BUT NOT LIMITED TO, PROCUREMENT OF SUBSTITUTE GOODS OR SERVICES;\n",
            "        LOSS OF USE, DATA, OR PROFITS; OR BUSINESS INTERRUPTION) HOWEVER CAUSED AND ON\n",
            "        ANY THEORY OF LIABILITY, WHETHER IN CONTRACT, STRICT LIABILITY, OR TORT\n",
            "        (INCLUDING NEGLIGENCE OR OTHERWISE) ARISING IN ANY WAY OUT OF THE USE OF THIS\n",
            "        SOFTWARE, EVEN IF ADVISED OF THE POSSIBILITY OF SUCH DAMAGE.\n",
            "        \n",
            "Location: /usr/local/lib/python3.9/dist-packages\n",
            "Requires: \n",
            "Required-by: \n",
            "Name: requests\n",
            "Version: 2.27.1\n",
            "Summary: Python HTTP for Humans.\n",
            "Home-page: https://requests.readthedocs.io\n",
            "Author: Kenneth Reitz\n",
            "Author-email: me@kennethreitz.org\n",
            "License: Apache 2.0\n",
            "Location: /usr/local/lib/python3.9/dist-packages\n",
            "Requires: certifi, charset-normalizer, idna, urllib3\n",
            "Required-by: CacheControl, community, earthengine-api, fastai, folium, gdown, google-api-core, google-cloud-bigquery, google-cloud-storage, google-colab, gspread, kaggle, moviepy, music21, pandas-datareader, pandas-profiling, panel, pooch, pymystem3, requests-oauthlib, spacy, Sphinx, tensorboard, tensorflow-datasets, torchdata, torchtext, torchvision, tweepy, yfinance\n",
            "Name: Flask\n",
            "Version: 2.2.3\n",
            "Summary: A simple framework for building complex web applications.\n",
            "Home-page: https://palletsprojects.com/p/flask\n",
            "Author: Armin Ronacher\n",
            "Author-email: armin.ronacher@active-4.com\n",
            "License: BSD-3-Clause\n",
            "Location: /usr/local/lib/python3.9/dist-packages\n",
            "Requires: click, importlib-metadata, itsdangerous, Jinja2, Werkzeug\n",
            "Required-by: community\n"
          ]
        }
      ]
    },
    {
      "cell_type": "code",
      "source": [
        "!pip install hashlib"
      ],
      "metadata": {
        "colab": {
          "base_uri": "https://localhost:8080/"
        },
        "id": "CtL2rU0h53OE",
        "outputId": "d6f99ee2-debb-45e9-85d4-8e30d84d2369"
      },
      "execution_count": null,
      "outputs": [
        {
          "output_type": "stream",
          "name": "stdout",
          "text": [
            "Looking in indexes: https://pypi.org/simple, https://us-python.pkg.dev/colab-wheels/public/simple/\n",
            "Collecting hashlib\n",
            "  Downloading hashlib-20081119.zip (42 kB)\n",
            "\u001b[2K     \u001b[90m━━━━━━━━━━━━━━━━━━━━━━━━━━━━━━━━━━━━━━━━\u001b[0m \u001b[32m42.3/42.3 KB\u001b[0m \u001b[31m4.7 MB/s\u001b[0m eta \u001b[36m0:00:00\u001b[0m\n",
            "\u001b[?25h  \u001b[1;31merror\u001b[0m: \u001b[1msubprocess-exited-with-error\u001b[0m\n",
            "  \n",
            "  \u001b[31m×\u001b[0m \u001b[32mpython setup.py egg_info\u001b[0m did not run successfully.\n",
            "  \u001b[31m│\u001b[0m exit code: \u001b[1;36m1\u001b[0m\n",
            "  \u001b[31m╰─>\u001b[0m See above for output.\n",
            "  \n",
            "  \u001b[1;35mnote\u001b[0m: This error originates from a subprocess, and is likely not a problem with pip.\n",
            "  Preparing metadata (setup.py) ... \u001b[?25l\u001b[?25herror\n",
            "\u001b[1;31merror\u001b[0m: \u001b[1mmetadata-generation-failed\u001b[0m\n",
            "\n",
            "\u001b[31m×\u001b[0m Encountered error while generating package metadata.\n",
            "\u001b[31m╰─>\u001b[0m See above for output.\n",
            "\n",
            "\u001b[1;35mnote\u001b[0m: This is an issue with the package mentioned above, not pip.\n",
            "\u001b[1;36mhint\u001b[0m: See above for details.\n"
          ]
        }
      ]
    },
    {
      "cell_type": "code",
      "source": [
        "!pip install cdifflib\n",
        "!pip install requests\n",
        "!pip install flask\n",
        "!pip install pyngrok"
      ],
      "metadata": {
        "id": "CuKRC0zSdBIb",
        "colab": {
          "base_uri": "https://localhost:8080/"
        },
        "outputId": "21aaf629-c12f-48a1-f811-e1b25fdf749e"
      },
      "execution_count": null,
      "outputs": [
        {
          "output_type": "stream",
          "name": "stdout",
          "text": [
            "Looking in indexes: https://pypi.org/simple, https://us-python.pkg.dev/colab-wheels/public/simple/\n",
            "Collecting cdifflib\n",
            "  Downloading cdifflib-1.2.6.tar.gz (11 kB)\n",
            "  Installing build dependencies ... \u001b[?25l\u001b[?25hdone\n",
            "  Getting requirements to build wheel ... \u001b[?25l\u001b[?25hdone\n",
            "  Installing backend dependencies ... \u001b[?25l\u001b[?25hdone\n",
            "  Preparing metadata (pyproject.toml) ... \u001b[?25l\u001b[?25hdone\n",
            "Building wheels for collected packages: cdifflib\n",
            "  Building wheel for cdifflib (pyproject.toml) ... \u001b[?25l\u001b[?25hdone\n",
            "  Created wheel for cdifflib: filename=cdifflib-1.2.6-cp39-cp39-linux_x86_64.whl size=36969 sha256=a3739db25be4beb5035e543ab6120c07bd78f3eea419e2f896b299a1aa304ffc\n",
            "  Stored in directory: /root/.cache/pip/wheels/ab/97/fb/48038e1ad28b2447597595cd197785fbae1757f3e3a93d9e27\n",
            "Successfully built cdifflib\n",
            "Installing collected packages: cdifflib\n",
            "Successfully installed cdifflib-1.2.6\n",
            "Looking in indexes: https://pypi.org/simple, https://us-python.pkg.dev/colab-wheels/public/simple/\n",
            "Requirement already satisfied: requests in /usr/local/lib/python3.9/dist-packages (2.27.1)\n",
            "Requirement already satisfied: charset-normalizer~=2.0.0 in /usr/local/lib/python3.9/dist-packages (from requests) (2.0.12)\n",
            "Requirement already satisfied: certifi>=2017.4.17 in /usr/local/lib/python3.9/dist-packages (from requests) (2022.12.7)\n",
            "Requirement already satisfied: urllib3<1.27,>=1.21.1 in /usr/local/lib/python3.9/dist-packages (from requests) (1.26.15)\n",
            "Requirement already satisfied: idna<4,>=2.5 in /usr/local/lib/python3.9/dist-packages (from requests) (3.4)\n",
            "Looking in indexes: https://pypi.org/simple, https://us-python.pkg.dev/colab-wheels/public/simple/\n",
            "Requirement already satisfied: flask in /usr/local/lib/python3.9/dist-packages (2.2.3)\n",
            "Requirement already satisfied: Jinja2>=3.0 in /usr/local/lib/python3.9/dist-packages (from flask) (3.1.2)\n",
            "Requirement already satisfied: click>=8.0 in /usr/local/lib/python3.9/dist-packages (from flask) (8.1.3)\n",
            "Requirement already satisfied: importlib-metadata>=3.6.0 in /usr/local/lib/python3.9/dist-packages (from flask) (6.1.0)\n",
            "Requirement already satisfied: Werkzeug>=2.2.2 in /usr/local/lib/python3.9/dist-packages (from flask) (2.2.3)\n",
            "Requirement already satisfied: itsdangerous>=2.0 in /usr/local/lib/python3.9/dist-packages (from flask) (2.1.2)\n",
            "Requirement already satisfied: zipp>=0.5 in /usr/local/lib/python3.9/dist-packages (from importlib-metadata>=3.6.0->flask) (3.15.0)\n",
            "Requirement already satisfied: MarkupSafe>=2.0 in /usr/local/lib/python3.9/dist-packages (from Jinja2>=3.0->flask) (2.1.2)\n",
            "Looking in indexes: https://pypi.org/simple, https://us-python.pkg.dev/colab-wheels/public/simple/\n",
            "Collecting pyngrok\n",
            "  Downloading pyngrok-5.2.1.tar.gz (761 kB)\n",
            "\u001b[2K     \u001b[90m━━━━━━━━━━━━━━━━━━━━━━━━━━━━━━━━━━━━━━\u001b[0m \u001b[32m761.3/761.3 KB\u001b[0m \u001b[31m46.2 MB/s\u001b[0m eta \u001b[36m0:00:00\u001b[0m\n",
            "\u001b[?25h  Preparing metadata (setup.py) ... \u001b[?25l\u001b[?25hdone\n",
            "Requirement already satisfied: PyYAML in /usr/local/lib/python3.9/dist-packages (from pyngrok) (6.0)\n",
            "Building wheels for collected packages: pyngrok\n",
            "  Building wheel for pyngrok (setup.py) ... \u001b[?25l\u001b[?25hdone\n",
            "  Created wheel for pyngrok: filename=pyngrok-5.2.1-py3-none-any.whl size=19790 sha256=e61dd75c9b8c6f7cd300b4c6034c6b08425ad6241e45c4d24a6d105d1bf698fa\n",
            "  Stored in directory: /root/.cache/pip/wheels/f6/89/59/49d4249e00957e94813ac136a335d10ed2e09a856c5096f95c\n",
            "Successfully built pyngrok\n",
            "Installing collected packages: pyngrok\n",
            "Successfully installed pyngrok-5.2.1\n"
          ]
        }
      ]
    },
    {
      "cell_type": "code",
      "source": [
        "!python --version"
      ],
      "metadata": {
        "colab": {
          "base_uri": "https://localhost:8080/"
        },
        "id": "iotMqx7eo_eF",
        "outputId": "8512bd2e-4a4a-4217-9c1b-912b4a6caf51"
      },
      "execution_count": null,
      "outputs": [
        {
          "output_type": "stream",
          "name": "stdout",
          "text": [
            "Python 3.9.16\n"
          ]
        }
      ]
    },
    {
      "cell_type": "code",
      "source": [
        "\n"
      ],
      "metadata": {
        "id": "s80gNwZKgWnP"
      },
      "execution_count": null,
      "outputs": []
    },
    {
      "cell_type": "code",
      "source": [
        "from google.colab import files\n",
        "uploaded = files.upload()"
      ],
      "metadata": {
        "colab": {
          "base_uri": "https://localhost:8080/",
          "height": 73
        },
        "id": "OCF1atO-9XYW",
        "outputId": "21f895f6-c991-477a-932e-b45f0da4c381"
      },
      "execution_count": null,
      "outputs": [
        {
          "output_type": "display_data",
          "data": {
            "text/plain": [
              "<IPython.core.display.HTML object>"
            ],
            "text/html": [
              "\n",
              "     <input type=\"file\" id=\"files-b67cfa66-ea20-430a-82b8-1fcd0910b9af\" name=\"files[]\" multiple disabled\n",
              "        style=\"border:none\" />\n",
              "     <output id=\"result-b67cfa66-ea20-430a-82b8-1fcd0910b9af\">\n",
              "      Upload widget is only available when the cell has been executed in the\n",
              "      current browser session. Please rerun this cell to enable.\n",
              "      </output>\n",
              "      <script>// Copyright 2017 Google LLC\n",
              "//\n",
              "// Licensed under the Apache License, Version 2.0 (the \"License\");\n",
              "// you may not use this file except in compliance with the License.\n",
              "// You may obtain a copy of the License at\n",
              "//\n",
              "//      http://www.apache.org/licenses/LICENSE-2.0\n",
              "//\n",
              "// Unless required by applicable law or agreed to in writing, software\n",
              "// distributed under the License is distributed on an \"AS IS\" BASIS,\n",
              "// WITHOUT WARRANTIES OR CONDITIONS OF ANY KIND, either express or implied.\n",
              "// See the License for the specific language governing permissions and\n",
              "// limitations under the License.\n",
              "\n",
              "/**\n",
              " * @fileoverview Helpers for google.colab Python module.\n",
              " */\n",
              "(function(scope) {\n",
              "function span(text, styleAttributes = {}) {\n",
              "  const element = document.createElement('span');\n",
              "  element.textContent = text;\n",
              "  for (const key of Object.keys(styleAttributes)) {\n",
              "    element.style[key] = styleAttributes[key];\n",
              "  }\n",
              "  return element;\n",
              "}\n",
              "\n",
              "// Max number of bytes which will be uploaded at a time.\n",
              "const MAX_PAYLOAD_SIZE = 100 * 1024;\n",
              "\n",
              "function _uploadFiles(inputId, outputId) {\n",
              "  const steps = uploadFilesStep(inputId, outputId);\n",
              "  const outputElement = document.getElementById(outputId);\n",
              "  // Cache steps on the outputElement to make it available for the next call\n",
              "  // to uploadFilesContinue from Python.\n",
              "  outputElement.steps = steps;\n",
              "\n",
              "  return _uploadFilesContinue(outputId);\n",
              "}\n",
              "\n",
              "// This is roughly an async generator (not supported in the browser yet),\n",
              "// where there are multiple asynchronous steps and the Python side is going\n",
              "// to poll for completion of each step.\n",
              "// This uses a Promise to block the python side on completion of each step,\n",
              "// then passes the result of the previous step as the input to the next step.\n",
              "function _uploadFilesContinue(outputId) {\n",
              "  const outputElement = document.getElementById(outputId);\n",
              "  const steps = outputElement.steps;\n",
              "\n",
              "  const next = steps.next(outputElement.lastPromiseValue);\n",
              "  return Promise.resolve(next.value.promise).then((value) => {\n",
              "    // Cache the last promise value to make it available to the next\n",
              "    // step of the generator.\n",
              "    outputElement.lastPromiseValue = value;\n",
              "    return next.value.response;\n",
              "  });\n",
              "}\n",
              "\n",
              "/**\n",
              " * Generator function which is called between each async step of the upload\n",
              " * process.\n",
              " * @param {string} inputId Element ID of the input file picker element.\n",
              " * @param {string} outputId Element ID of the output display.\n",
              " * @return {!Iterable<!Object>} Iterable of next steps.\n",
              " */\n",
              "function* uploadFilesStep(inputId, outputId) {\n",
              "  const inputElement = document.getElementById(inputId);\n",
              "  inputElement.disabled = false;\n",
              "\n",
              "  const outputElement = document.getElementById(outputId);\n",
              "  outputElement.innerHTML = '';\n",
              "\n",
              "  const pickedPromise = new Promise((resolve) => {\n",
              "    inputElement.addEventListener('change', (e) => {\n",
              "      resolve(e.target.files);\n",
              "    });\n",
              "  });\n",
              "\n",
              "  const cancel = document.createElement('button');\n",
              "  inputElement.parentElement.appendChild(cancel);\n",
              "  cancel.textContent = 'Cancel upload';\n",
              "  const cancelPromise = new Promise((resolve) => {\n",
              "    cancel.onclick = () => {\n",
              "      resolve(null);\n",
              "    };\n",
              "  });\n",
              "\n",
              "  // Wait for the user to pick the files.\n",
              "  const files = yield {\n",
              "    promise: Promise.race([pickedPromise, cancelPromise]),\n",
              "    response: {\n",
              "      action: 'starting',\n",
              "    }\n",
              "  };\n",
              "\n",
              "  cancel.remove();\n",
              "\n",
              "  // Disable the input element since further picks are not allowed.\n",
              "  inputElement.disabled = true;\n",
              "\n",
              "  if (!files) {\n",
              "    return {\n",
              "      response: {\n",
              "        action: 'complete',\n",
              "      }\n",
              "    };\n",
              "  }\n",
              "\n",
              "  for (const file of files) {\n",
              "    const li = document.createElement('li');\n",
              "    li.append(span(file.name, {fontWeight: 'bold'}));\n",
              "    li.append(span(\n",
              "        `(${file.type || 'n/a'}) - ${file.size} bytes, ` +\n",
              "        `last modified: ${\n",
              "            file.lastModifiedDate ? file.lastModifiedDate.toLocaleDateString() :\n",
              "                                    'n/a'} - `));\n",
              "    const percent = span('0% done');\n",
              "    li.appendChild(percent);\n",
              "\n",
              "    outputElement.appendChild(li);\n",
              "\n",
              "    const fileDataPromise = new Promise((resolve) => {\n",
              "      const reader = new FileReader();\n",
              "      reader.onload = (e) => {\n",
              "        resolve(e.target.result);\n",
              "      };\n",
              "      reader.readAsArrayBuffer(file);\n",
              "    });\n",
              "    // Wait for the data to be ready.\n",
              "    let fileData = yield {\n",
              "      promise: fileDataPromise,\n",
              "      response: {\n",
              "        action: 'continue',\n",
              "      }\n",
              "    };\n",
              "\n",
              "    // Use a chunked sending to avoid message size limits. See b/62115660.\n",
              "    let position = 0;\n",
              "    do {\n",
              "      const length = Math.min(fileData.byteLength - position, MAX_PAYLOAD_SIZE);\n",
              "      const chunk = new Uint8Array(fileData, position, length);\n",
              "      position += length;\n",
              "\n",
              "      const base64 = btoa(String.fromCharCode.apply(null, chunk));\n",
              "      yield {\n",
              "        response: {\n",
              "          action: 'append',\n",
              "          file: file.name,\n",
              "          data: base64,\n",
              "        },\n",
              "      };\n",
              "\n",
              "      let percentDone = fileData.byteLength === 0 ?\n",
              "          100 :\n",
              "          Math.round((position / fileData.byteLength) * 100);\n",
              "      percent.textContent = `${percentDone}% done`;\n",
              "\n",
              "    } while (position < fileData.byteLength);\n",
              "  }\n",
              "\n",
              "  // All done.\n",
              "  yield {\n",
              "    response: {\n",
              "      action: 'complete',\n",
              "    }\n",
              "  };\n",
              "}\n",
              "\n",
              "scope.google = scope.google || {};\n",
              "scope.google.colab = scope.google.colab || {};\n",
              "scope.google.colab._files = {\n",
              "  _uploadFiles,\n",
              "  _uploadFilesContinue,\n",
              "};\n",
              "})(self);\n",
              "</script> "
            ]
          },
          "metadata": {}
        },
        {
          "output_type": "stream",
          "name": "stdout",
          "text": [
            "Saving escp.mp3 to escp.mp3\n"
          ]
        }
      ]
    },
    {
      "cell_type": "code",
      "source": [
        "from google.colab import files\n",
        "uploaded = files.upload()"
      ],
      "metadata": {
        "colab": {
          "base_uri": "https://localhost:8080/",
          "height": 73
        },
        "id": "RAU5puJU9iAG",
        "outputId": "2fa1be78-7f41-414e-f4b1-6355ab86a7cd"
      },
      "execution_count": null,
      "outputs": [
        {
          "output_type": "display_data",
          "data": {
            "text/plain": [
              "<IPython.core.display.HTML object>"
            ],
            "text/html": [
              "\n",
              "     <input type=\"file\" id=\"files-1086e287-e482-4e1b-a4c7-36ffecaf1584\" name=\"files[]\" multiple disabled\n",
              "        style=\"border:none\" />\n",
              "     <output id=\"result-1086e287-e482-4e1b-a4c7-36ffecaf1584\">\n",
              "      Upload widget is only available when the cell has been executed in the\n",
              "      current browser session. Please rerun this cell to enable.\n",
              "      </output>\n",
              "      <script>// Copyright 2017 Google LLC\n",
              "//\n",
              "// Licensed under the Apache License, Version 2.0 (the \"License\");\n",
              "// you may not use this file except in compliance with the License.\n",
              "// You may obtain a copy of the License at\n",
              "//\n",
              "//      http://www.apache.org/licenses/LICENSE-2.0\n",
              "//\n",
              "// Unless required by applicable law or agreed to in writing, software\n",
              "// distributed under the License is distributed on an \"AS IS\" BASIS,\n",
              "// WITHOUT WARRANTIES OR CONDITIONS OF ANY KIND, either express or implied.\n",
              "// See the License for the specific language governing permissions and\n",
              "// limitations under the License.\n",
              "\n",
              "/**\n",
              " * @fileoverview Helpers for google.colab Python module.\n",
              " */\n",
              "(function(scope) {\n",
              "function span(text, styleAttributes = {}) {\n",
              "  const element = document.createElement('span');\n",
              "  element.textContent = text;\n",
              "  for (const key of Object.keys(styleAttributes)) {\n",
              "    element.style[key] = styleAttributes[key];\n",
              "  }\n",
              "  return element;\n",
              "}\n",
              "\n",
              "// Max number of bytes which will be uploaded at a time.\n",
              "const MAX_PAYLOAD_SIZE = 100 * 1024;\n",
              "\n",
              "function _uploadFiles(inputId, outputId) {\n",
              "  const steps = uploadFilesStep(inputId, outputId);\n",
              "  const outputElement = document.getElementById(outputId);\n",
              "  // Cache steps on the outputElement to make it available for the next call\n",
              "  // to uploadFilesContinue from Python.\n",
              "  outputElement.steps = steps;\n",
              "\n",
              "  return _uploadFilesContinue(outputId);\n",
              "}\n",
              "\n",
              "// This is roughly an async generator (not supported in the browser yet),\n",
              "// where there are multiple asynchronous steps and the Python side is going\n",
              "// to poll for completion of each step.\n",
              "// This uses a Promise to block the python side on completion of each step,\n",
              "// then passes the result of the previous step as the input to the next step.\n",
              "function _uploadFilesContinue(outputId) {\n",
              "  const outputElement = document.getElementById(outputId);\n",
              "  const steps = outputElement.steps;\n",
              "\n",
              "  const next = steps.next(outputElement.lastPromiseValue);\n",
              "  return Promise.resolve(next.value.promise).then((value) => {\n",
              "    // Cache the last promise value to make it available to the next\n",
              "    // step of the generator.\n",
              "    outputElement.lastPromiseValue = value;\n",
              "    return next.value.response;\n",
              "  });\n",
              "}\n",
              "\n",
              "/**\n",
              " * Generator function which is called between each async step of the upload\n",
              " * process.\n",
              " * @param {string} inputId Element ID of the input file picker element.\n",
              " * @param {string} outputId Element ID of the output display.\n",
              " * @return {!Iterable<!Object>} Iterable of next steps.\n",
              " */\n",
              "function* uploadFilesStep(inputId, outputId) {\n",
              "  const inputElement = document.getElementById(inputId);\n",
              "  inputElement.disabled = false;\n",
              "\n",
              "  const outputElement = document.getElementById(outputId);\n",
              "  outputElement.innerHTML = '';\n",
              "\n",
              "  const pickedPromise = new Promise((resolve) => {\n",
              "    inputElement.addEventListener('change', (e) => {\n",
              "      resolve(e.target.files);\n",
              "    });\n",
              "  });\n",
              "\n",
              "  const cancel = document.createElement('button');\n",
              "  inputElement.parentElement.appendChild(cancel);\n",
              "  cancel.textContent = 'Cancel upload';\n",
              "  const cancelPromise = new Promise((resolve) => {\n",
              "    cancel.onclick = () => {\n",
              "      resolve(null);\n",
              "    };\n",
              "  });\n",
              "\n",
              "  // Wait for the user to pick the files.\n",
              "  const files = yield {\n",
              "    promise: Promise.race([pickedPromise, cancelPromise]),\n",
              "    response: {\n",
              "      action: 'starting',\n",
              "    }\n",
              "  };\n",
              "\n",
              "  cancel.remove();\n",
              "\n",
              "  // Disable the input element since further picks are not allowed.\n",
              "  inputElement.disabled = true;\n",
              "\n",
              "  if (!files) {\n",
              "    return {\n",
              "      response: {\n",
              "        action: 'complete',\n",
              "      }\n",
              "    };\n",
              "  }\n",
              "\n",
              "  for (const file of files) {\n",
              "    const li = document.createElement('li');\n",
              "    li.append(span(file.name, {fontWeight: 'bold'}));\n",
              "    li.append(span(\n",
              "        `(${file.type || 'n/a'}) - ${file.size} bytes, ` +\n",
              "        `last modified: ${\n",
              "            file.lastModifiedDate ? file.lastModifiedDate.toLocaleDateString() :\n",
              "                                    'n/a'} - `));\n",
              "    const percent = span('0% done');\n",
              "    li.appendChild(percent);\n",
              "\n",
              "    outputElement.appendChild(li);\n",
              "\n",
              "    const fileDataPromise = new Promise((resolve) => {\n",
              "      const reader = new FileReader();\n",
              "      reader.onload = (e) => {\n",
              "        resolve(e.target.result);\n",
              "      };\n",
              "      reader.readAsArrayBuffer(file);\n",
              "    });\n",
              "    // Wait for the data to be ready.\n",
              "    let fileData = yield {\n",
              "      promise: fileDataPromise,\n",
              "      response: {\n",
              "        action: 'continue',\n",
              "      }\n",
              "    };\n",
              "\n",
              "    // Use a chunked sending to avoid message size limits. See b/62115660.\n",
              "    let position = 0;\n",
              "    do {\n",
              "      const length = Math.min(fileData.byteLength - position, MAX_PAYLOAD_SIZE);\n",
              "      const chunk = new Uint8Array(fileData, position, length);\n",
              "      position += length;\n",
              "\n",
              "      const base64 = btoa(String.fromCharCode.apply(null, chunk));\n",
              "      yield {\n",
              "        response: {\n",
              "          action: 'append',\n",
              "          file: file.name,\n",
              "          data: base64,\n",
              "        },\n",
              "      };\n",
              "\n",
              "      let percentDone = fileData.byteLength === 0 ?\n",
              "          100 :\n",
              "          Math.round((position / fileData.byteLength) * 100);\n",
              "      percent.textContent = `${percentDone}% done`;\n",
              "\n",
              "    } while (position < fileData.byteLength);\n",
              "  }\n",
              "\n",
              "  // All done.\n",
              "  yield {\n",
              "    response: {\n",
              "      action: 'complete',\n",
              "    }\n",
              "  };\n",
              "}\n",
              "\n",
              "scope.google = scope.google || {};\n",
              "scope.google.colab = scope.google.colab || {};\n",
              "scope.google.colab._files = {\n",
              "  _uploadFiles,\n",
              "  _uploadFilesContinue,\n",
              "};\n",
              "})(self);\n",
              "</script> "
            ]
          },
          "metadata": {}
        },
        {
          "output_type": "stream",
          "name": "stdout",
          "text": [
            "Saving croad.mp3 to croad.mp3\n"
          ]
        }
      ]
    },
    {
      "cell_type": "code",
      "source": [
        "def hash_file(fileName1, fileName2):\n",
        "  h1 = hashlib.sha1()\n",
        "  h2 = hashlib.sha1()\n",
        "\n",
        "  with open(fileName1, \"rb\") as file:\n",
        "    chunk = 0\n",
        "    while chunk != b'':\n",
        "      chunk = file.read(1024)\n",
        "      h1.update(chunk)\n",
        "\n",
        "  with open(fileName2, \"rb\") as file:\n",
        "    chunk = 0\n",
        "    while chunk != b'':\n",
        "      chunk = file.read(1024)\n",
        "      h2.update(chunk)\n",
        "\n",
        "  return h1.hexdigest(),h2.hexdigest()\n",
        "\n",
        "\n",
        "msg1,msg2 = hash_file(\"escp.mp3\",\"croad.mp3\")\n",
        "print(msg1+\"\\t\"+msg2)\n",
        "print((CSequenceMatcher(None,msg1,msg2).ratio())*100)"
      ],
      "metadata": {
        "colab": {
          "base_uri": "https://localhost:8080/"
        },
        "id": "frnFwYdO7S1_",
        "outputId": "8b940fed-5dc7-4f0e-d42d-4c7bbfbe7979"
      },
      "execution_count": null,
      "outputs": [
        {
          "output_type": "stream",
          "name": "stdout",
          "text": [
            "e6c46b0724192490e1dd2b0c6c976ffe9171f5b0\td4dc894b40170e5ab7de3f8e876e7a73899238b7\n",
            "17.5\n"
          ]
        }
      ]
    },
    {
      "cell_type": "code",
      "source": [
        "def plagiarism(url1, url2, out_file1=\"audio1.mp3\", out_file2=\"audio2.mp3\"):\n",
        "\n",
        "    out_file1 = Path(f\"/content/{out_file1}\").expanduser()\n",
        "    resp = requests.get(url1)\n",
        "    resp.raise_for_status()\n",
        "    with open(out_file1, \"wb\") as fout:\n",
        "        fout.write(resp.content)\n",
        "\n",
        "    out_file2 = Path(f\"/content/{out_file2}\").expanduser()\n",
        "    resp = requests.get(url2)\n",
        "    resp.raise_for_status()\n",
        "    with open(out_file2, \"wb\") as fout:\n",
        "        fout.write(resp.content)\n",
        "\n",
        "    h1 = hashlib.sha1()\n",
        "    h2 = hashlib.sha1()\n",
        "\n",
        "    with open(\"audio1.mp3\", \"rb\") as file:\n",
        "      chunk = 0\n",
        "      while chunk != b'':\n",
        "        chunk = file.read(1024)\n",
        "        h1.update(chunk)\n",
        "\n",
        "    with open(\"audio2.mp3\", \"rb\") as file:\n",
        "      chunk = 0\n",
        "      while chunk != b'':\n",
        "        chunk = file.read(1024)\n",
        "        h2.update(chunk)\n",
        "\n",
        "    msg1 = h1.hexdigest()\n",
        "    msg2 = h2.hexdigest()\n",
        "    os.remove(\"audio1.mp3\")\n",
        "    os.remove(\"audio2.mp3\")\n",
        "\n",
        "    r = (CSequenceMatcher(None,msg1,msg2).ratio())*100\n",
        "    print(r)\n",
        "    return r\n",
        "\n",
        "\n",
        "plagiarism(\"https://firebasestorage.googleapis.com/v0/b/products-c26e6.appspot.com/o/WhatsApp%20Audio%202023-03-13%20at%204.50.07%20PM.mp3?alt=media&token=b4be8a7d-2995-4ca7-b94e-c33767c4a82a\",\"https://firebasestorage.googleapis.com/v0/b/products-c26e6.appspot.com/o/WhatsApp%20Audio%202023-03-13%20at%204.50.07%20PM.mp3?alt=media&token=b4be8a7d-2995-4ca7-b94e-c33767c4a82a\")\n",
        "\n",
        "\n",
        "\n",
        "\n"
      ],
      "metadata": {
        "colab": {
          "base_uri": "https://localhost:8080/"
        },
        "id": "mmXalcvdcEtI",
        "outputId": "e7774cb7-1941-48bf-cae1-ccc96702ae5c"
      },
      "execution_count": null,
      "outputs": [
        {
          "output_type": "stream",
          "name": "stdout",
          "text": [
            "100.0\n"
          ]
        },
        {
          "output_type": "execute_result",
          "data": {
            "text/plain": [
              "100.0"
            ]
          },
          "metadata": {},
          "execution_count": 19
        }
      ]
    },
    {
      "cell_type": "code",
      "source": [],
      "metadata": {
        "id": "nEWywYVcPZrf"
      },
      "execution_count": null,
      "outputs": []
    },
    {
      "cell_type": "code",
      "source": [
        "#from urllib import request\n",
        "from flask import Flask,request\n",
        "from pyngrok import ngrok\n",
        "\n",
        "port_no = 5000\n",
        "\n",
        "app = Flask(__name__)\n",
        "ngrok.set_auth_token(\"2IXKwQkflx7vu7q0FwBA7Uaj2yV_62xnbYLu3euksYJiUmLaT\")\n",
        "public_url = ngrok.connect(port_no).public_url\n",
        "\n",
        "@app.route(\"/\")\n",
        "def shit():\n",
        "  return f\"hello\"\n",
        "\n",
        "@app.route(\"/try/<string:what>\")\n",
        "def inging(what):\n",
        "  return f\"u wrote {what}\"\n",
        "\n",
        "@app.route('/shit/<path:c1>/<path:c2>')\n",
        "def twosigma(c1=None, c2=None):\n",
        "  return f\"{c1} \\n {c2}\"\n",
        "\n",
        "\n",
        "\n",
        "@app.route('/api/foo/', methods=['GET'])\n",
        "def foo(out_file1=\"audio1.mp3\", out_file2=\"audio2.mp3\"):\n",
        "  bar = request.args.to_dict()\n",
        "  print(bar)\n",
        "  url1 = bar.get(\"a\")\n",
        "  url2 = bar.get(\"b\")\n",
        "  print(url1)\n",
        "  print(url2)\n",
        "  out_file1 = Path(f\"/content/{out_file1}\").expanduser()\n",
        "  resp = requests.get(url1)\n",
        "  resp.raise_for_status()\n",
        "  with open(out_file1, \"wb\") as fout:\n",
        "      fout.write(resp.content)\n",
        "\n",
        "  out_file2 = Path(f\"/content/{out_file2}\").expanduser()\n",
        "  resp = requests.get(url2)\n",
        "  resp.raise_for_status()\n",
        "  with open(out_file2, \"wb\") as fout:\n",
        "      fout.write(resp.content)\n",
        "\n",
        "  h1 = hashlib.sha1()\n",
        "  h2 = hashlib.sha1()\n",
        "\n",
        "  with open(\"audio1.mp3\", \"rb\") as file:\n",
        "    chunk = 0\n",
        "    while chunk != b'':\n",
        "      chunk = file.read(1024)\n",
        "      h1.update(chunk)\n",
        "\n",
        "  with open(\"audio2.mp3\", \"rb\") as file:\n",
        "    chunk = 0\n",
        "    while chunk != b'':\n",
        "      chunk = file.read(1024)\n",
        "      h2.update(chunk)\n",
        "\n",
        "  msg1 = h1.hexdigest()\n",
        "  msg2 = h2.hexdigest()\n",
        "  os.remove(\"audio1.mp3\")\n",
        "  os.remove(\"audio2.mp3\")\n",
        "\n",
        "  r = (CSequenceMatcher(None,msg1,msg2).ratio())*100\n",
        "  r=int(r)\n",
        "  r = [r]\n",
        "  print(r)\n",
        "  return r\n",
        "\n",
        "\n",
        "\n",
        "print(public_url)\n",
        "app.run(port=port_no)"
      ],
      "metadata": {
        "id": "d5dLJWYhwIp1",
        "colab": {
          "base_uri": "https://localhost:8080/"
        },
        "outputId": "b2860d01-b12c-4c63-d992-48fd954908e2"
      },
      "execution_count": null,
      "outputs": [
        {
          "output_type": "stream",
          "name": "stdout",
          "text": [
            "http://3c1a-34-72-155-55.ngrok.io\n",
            " * Serving Flask app '__main__'\n",
            " * Debug mode: off\n"
          ]
        },
        {
          "output_type": "stream",
          "name": "stderr",
          "text": [
            "INFO:werkzeug:\u001b[31m\u001b[1mWARNING: This is a development server. Do not use it in a production deployment. Use a production WSGI server instead.\u001b[0m\n",
            " * Running on http://127.0.0.1:5000\n",
            "INFO:werkzeug:\u001b[33mPress CTRL+C to quit\u001b[0m\n",
            "INFO:werkzeug:127.0.0.1 - - [20/Mar/2023 15:34:04] \"\u001b[32mGET /api/foo?a=https%3A%2F%2Ffirebasestorage.googleapis.com%2Fv0%2Fb%2Fproducts-c26e6.appspot.com%2Fo%2FWhatsApp%2520Audio%25202023-03-13%2520at%25204.50.07%2520PM.mp3%3Falt%3Dmedia%26token%3Db4be8a7d-2995-4ca7-b94e-c33767c4a82a&b=https%3A%2F%2Ffirebasestorage.googleapis.com%2Fv0%2Fb%2Fproducts-c26e6.appspot.com%2Fo%2FWhatsApp%2520Audio%25202023-03-13%2520at%25204.50.07%2520PM.mp3%3Falt%3Dmedia%26token%3Db4be8a7d-2995-4ca7-b94e-c33767c4a82a HTTP/1.1\u001b[0m\" 308 -\n"
          ]
        },
        {
          "output_type": "stream",
          "name": "stdout",
          "text": [
            "{'a': 'https://firebasestorage.googleapis.com/v0/b/products-c26e6.appspot.com/o/WhatsApp%20Audio%202023-03-13%20at%204.50.07%20PM.mp3?alt=media&token=b4be8a7d-2995-4ca7-b94e-c33767c4a82a', 'b': 'https://firebasestorage.googleapis.com/v0/b/products-c26e6.appspot.com/o/WhatsApp%20Audio%202023-03-13%20at%204.50.07%20PM.mp3?alt=media&token=b4be8a7d-2995-4ca7-b94e-c33767c4a82a'}\n",
            "https://firebasestorage.googleapis.com/v0/b/products-c26e6.appspot.com/o/WhatsApp%20Audio%202023-03-13%20at%204.50.07%20PM.mp3?alt=media&token=b4be8a7d-2995-4ca7-b94e-c33767c4a82a\n",
            "https://firebasestorage.googleapis.com/v0/b/products-c26e6.appspot.com/o/WhatsApp%20Audio%202023-03-13%20at%204.50.07%20PM.mp3?alt=media&token=b4be8a7d-2995-4ca7-b94e-c33767c4a82a\n"
          ]
        },
        {
          "output_type": "stream",
          "name": "stderr",
          "text": [
            "INFO:werkzeug:127.0.0.1 - - [20/Mar/2023 15:34:05] \"GET /api/foo/?a=https%3A%2F%2Ffirebasestorage.googleapis.com%2Fv0%2Fb%2Fproducts-c26e6.appspot.com%2Fo%2FWhatsApp%2520Audio%25202023-03-13%2520at%25204.50.07%2520PM.mp3%3Falt%3Dmedia%26token%3Db4be8a7d-2995-4ca7-b94e-c33767c4a82a&b=https%3A%2F%2Ffirebasestorage.googleapis.com%2Fv0%2Fb%2Fproducts-c26e6.appspot.com%2Fo%2FWhatsApp%2520Audio%25202023-03-13%2520at%25204.50.07%2520PM.mp3%3Falt%3Dmedia%26token%3Db4be8a7d-2995-4ca7-b94e-c33767c4a82a HTTP/1.1\" 200 -\n"
          ]
        },
        {
          "output_type": "stream",
          "name": "stdout",
          "text": [
            "[100]\n"
          ]
        }
      ]
    }
  ]
}